{
 "cells": [
  {
   "cell_type": "markdown",
   "source": [
    "# General\n",
    "\n",
    "## Dataset\n",
    "https://www.kaggle.com/datasets/blastchar/telco-customer-churn\n",
    "\n",
    "# TODO:\n",
    "### David:\n",
    "- pre-processing\n",
    "  - converting to numerical data (one hot encoding (pandas), label-encoding/method encoding ?)\n",
    "  - feature scaling (standardize or normalize ?)\n",
    "- feature selection\n",
    "- performance visualization\n"
   ],
   "metadata": {
    "collapsed": false
   }
  },
  {
   "cell_type": "code",
   "execution_count": 2,
   "outputs": [],
   "source": [
    "## Imports & Settings\n",
    "import sys\n",
    "import pandas as pd\n",
    "import numpy as np\n",
    "import matplotlib.pyplot as plt\n",
    "import seaborn as sns\n",
    "\n",
    "from sklearn.model_selection import train_test_split\n",
    "from sklearn.preprocessing import LabelEncoder\n",
    "\n",
    "# display all columns and rows:\n",
    "# pd.set_option('display.max_columns', None)\n",
    "# pd.set_option('display.max_rows', None)\n",
    "\n",
    "import warnings\n",
    "warnings.filterwarnings(\"ignore\", category=DeprecationWarning)\n",
    "warnings.filterwarnings(\"ignore\", category=FutureWarning)\n",
    "warnings.filterwarnings(\"ignore\", category=UserWarning)"
   ],
   "metadata": {
    "collapsed": false
   }
  },
  {
   "cell_type": "code",
   "execution_count": 12,
   "outputs": [
    {
     "name": "stdout",
     "output_type": "stream",
     "text": [
      "            gender  SeniorCitizen  Partner  Dependents  tenure  PhoneService  \\\n",
      "customerID                                                                     \n",
      "7590-VHVEG       0              0        1           0       1             0   \n",
      "5575-GNVDE       1              0        0           0      34             1   \n",
      "3668-QPYBK       1              0        0           0       2             1   \n",
      "7795-CFOCW       1              0        0           0      45             0   \n",
      "9237-HQITU       0              0        0           0       2             1   \n",
      "\n",
      "            MultipleLines  InternetService  OnlineSecurity  OnlineBackup  \\\n",
      "customerID                                                                 \n",
      "7590-VHVEG              1                0               0             2   \n",
      "5575-GNVDE              0                0               2             0   \n",
      "3668-QPYBK              0                0               2             2   \n",
      "7795-CFOCW              1                0               2             0   \n",
      "9237-HQITU              0                1               0             0   \n",
      "\n",
      "            DeviceProtection  TechSupport  StreamingTV  StreamingMovies  \\\n",
      "customerID                                                                \n",
      "7590-VHVEG                 0            0            0                0   \n",
      "5575-GNVDE                 2            0            0                0   \n",
      "3668-QPYBK                 0            0            0                0   \n",
      "7795-CFOCW                 2            2            0                0   \n",
      "9237-HQITU                 0            0            0                0   \n",
      "\n",
      "            Contract  PaperlessBilling  PaymentMethod  MonthlyCharges  \\\n",
      "customerID                                                              \n",
      "7590-VHVEG         0                 1              2           29.85   \n",
      "5575-GNVDE         1                 0              3           56.95   \n",
      "3668-QPYBK         0                 1              3           53.85   \n",
      "7795-CFOCW         1                 0              0           42.30   \n",
      "9237-HQITU         0                 1              2           70.70   \n",
      "\n",
      "           TotalCharges Churn  \n",
      "customerID                     \n",
      "7590-VHVEG        29.85    No  \n",
      "5575-GNVDE       1889.5    No  \n",
      "3668-QPYBK       108.15   Yes  \n",
      "7795-CFOCW      1840.75    No  \n",
      "9237-HQITU       151.65   Yes  \n"
     ]
    }
   ],
   "source": [
    "## Dataset & Preprocessing\n",
    "\n",
    "# Dataset\n",
    "df_original = pd.read_csv('dataset/telco-customer-churn.csv', index_col=0)\n",
    "df = df_original.copy()\n",
    "\n",
    "# Label Encoding (converting categorical to numerical)\n",
    "categorical_columns = ['gender', 'Partner', 'Dependents', 'PhoneService', 'MultipleLines','InternetService','OnlineSecurity', 'OnlineBackup','DeviceProtection','TechSupport','StreamingTV','StreamingMovies','Contract','PaperlessBilling','PaymentMethod']\n",
    "\n",
    "# convert and replace categorical columns with numerical data from categorical\n",
    "for col in categorical_columns:\n",
    "    df[col] = df[col].astype('category')\n",
    "    df[col] = df[col].cat.codes\n",
    "\n",
    "## Model\n",
    "X = df.drop(\"Churn\",axis=1)\n",
    "y = df[\"Churn\"]\n",
    "\n",
    "X_train, X_test, y_train, y_test = train_test_split(X, y, test_size=0.3, random_state=50)"
   ],
   "metadata": {
    "collapsed": false
   }
  },
  {
   "cell_type": "code",
   "execution_count": null,
   "outputs": [],
   "source": [],
   "metadata": {
    "collapsed": false
   }
  }
 ],
 "metadata": {
  "kernelspec": {
   "display_name": "Python 3",
   "language": "python",
   "name": "python3"
  },
  "language_info": {
   "codemirror_mode": {
    "name": "ipython",
    "version": 2
   },
   "file_extension": ".py",
   "mimetype": "text/x-python",
   "name": "python",
   "nbconvert_exporter": "python",
   "pygments_lexer": "ipython2",
   "version": "2.7.6"
  }
 },
 "nbformat": 4,
 "nbformat_minor": 0
}
